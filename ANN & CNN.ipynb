{
 "cells": [
  {
   "cell_type": "code",
   "execution_count": 2,
   "id": "decc379c",
   "metadata": {},
   "outputs": [],
   "source": [
    "import tensorflow as tf\n",
    "from tensorflow.keras import datasets, layers, models\n",
    "import matplotlib.pyplot as plt\n",
    "import numpy as np"
   ]
  },
  {
   "cell_type": "code",
   "execution_count": 4,
   "id": "8f054c91",
   "metadata": {},
   "outputs": [
    {
     "name": "stdout",
     "output_type": "stream",
     "text": [
      "Downloading data from https://www.cs.toronto.edu/~kriz/cifar-10-python.tar.gz\n",
      "170500096/170498071 [==============================] - 65s 0us/step\n"
     ]
    },
    {
     "data": {
      "text/plain": [
       "(50000, 32, 32, 3)"
      ]
     },
     "execution_count": 4,
     "metadata": {},
     "output_type": "execute_result"
    }
   ],
   "source": [
    "(X_train, y_train),(X_test, y_test) = datasets.cifar10.load_data()\n",
    "X_train.shape"
   ]
  },
  {
   "cell_type": "code",
   "execution_count": 14,
   "id": "560cf5e1",
   "metadata": {},
   "outputs": [
    {
     "data": {
      "text/plain": [
       "(10000, 32, 32, 3)"
      ]
     },
     "execution_count": 14,
     "metadata": {},
     "output_type": "execute_result"
    }
   ],
   "source": [
    "X_test.shape\n"
   ]
  },
  {
   "cell_type": "code",
   "execution_count": 16,
   "id": "1ee1029c",
   "metadata": {},
   "outputs": [
    {
     "data": {
      "text/plain": [
       "array([[6],\n",
       "       [9],\n",
       "       [9],\n",
       "       [4],\n",
       "       [1]], dtype=uint8)"
      ]
     },
     "execution_count": 16,
     "metadata": {},
     "output_type": "execute_result"
    }
   ],
   "source": [
    "y_train[:5]"
   ]
  },
  {
   "cell_type": "code",
   "execution_count": 17,
   "id": "5aaa3806",
   "metadata": {},
   "outputs": [
    {
     "data": {
      "text/plain": [
       "array([6, 9, 9, 4, 1], dtype=uint8)"
      ]
     },
     "execution_count": 17,
     "metadata": {},
     "output_type": "execute_result"
    }
   ],
   "source": [
    "y_train = y_train.reshape(-1,)\n",
    "y_train[:5]"
   ]
  },
  {
   "cell_type": "code",
   "execution_count": 15,
   "id": "bb62018b",
   "metadata": {},
   "outputs": [],
   "source": [
    "classes=['airplane','automobile','bird','cat','deer','dog','frog','horse','ship','truck']"
   ]
  },
  {
   "cell_type": "code",
   "execution_count": 18,
   "id": "e4fd4448",
   "metadata": {},
   "outputs": [
    {
     "data": {
      "text/plain": [
       "'truck'"
      ]
     },
     "execution_count": 18,
     "metadata": {},
     "output_type": "execute_result"
    }
   ],
   "source": [
    "classes[9]"
   ]
  },
  {
   "cell_type": "code",
   "execution_count": null,
   "id": "1bf70072",
   "metadata": {},
   "outputs": [],
   "source": []
  },
  {
   "cell_type": "code",
   "execution_count": 21,
   "id": "6734e953",
   "metadata": {},
   "outputs": [],
   "source": [
    "def plot_sample(X,y, index):\n",
    "    plt.figure(figsize=(15,2))\n",
    "    plt.imshow(X[index])\n",
    "    plt.xlabel(classes[y[index]])"
   ]
  },
  {
   "cell_type": "code",
   "execution_count": 22,
   "id": "fd5ab5ad",
   "metadata": {},
   "outputs": [
    {
     "data": {
      "image/png": "[encoded data removed]",
      "text/plain": [
       "<Figure size 1080x144 with 1 Axes>"
      ]
     },
     "metadata": {
      "needs_background": "light"
     },
     "output_type": "display_data"
    }
   ],
   "source": [
    "plot_sample(X_train, y_train, 0)"
   ]
  },
  {
   "cell_type": "code",
   "execution_count": 25,
   "id": "514dafb6",
   "metadata": {},
   "outputs": [
    {
     "data": {
      "image/png": "[encoded data removed]",
      "text/plain": [
       "<Figure size 1080x144 with 1 Axes>"
      ]
     },
     "metadata": {
      "needs_background": "light"
     },
     "output_type": "display_data"
    }
   ],
   "source": [
    "plot_sample(X_train, y_train,3)"
   ]
  },
  {
   "cell_type": "code",
   "execution_count": 28,
   "id": "f04bc2a9",
   "metadata": {},
   "outputs": [],
   "source": [
    "X_train = X_train/255\n",
    "X_test = X_test/255\n"
   ]
  },
  {
   "cell_type": "code",
   "execution_count": 32,
   "id": "1818711a",
   "metadata": {},
   "outputs": [
    {
     "name": "stdout",
     "output_type": "stream",
     "text": [
      "Epoch 1/5\n",
      "1563/1563 [==============================] - 121s 78ms/step - loss: 1.8596 - accuracy: 0.3344\n",
      "Epoch 2/5\n",
      "1563/1563 [==============================] - 114s 73ms/step - loss: 1.6569 - accuracy: 0.4135\n",
      "Epoch 3/5\n",
      "1563/1563 [==============================] - 123s 79ms/step - loss: 1.5691 - accuracy: 0.4427\n",
      "Epoch 4/5\n",
      "1563/1563 [==============================] - 132s 85ms/step - loss: 1.5103 - accuracy: 0.4664\n",
      "Epoch 5/5\n",
      "1563/1563 [==============================] - 114s 73ms/step - loss: 1.4606 - accuracy: 0.4834\n"
     ]
    },
    {
     "data": {
      "text/plain": [
       "<tensorflow.python.keras.callbacks.History at 0x20874907a00>"
      ]
     },
     "execution_count": 32,
     "metadata": {},
     "output_type": "execute_result"
    }
   ],
   "source": [
    "ann = models.Sequential([\n",
    "    layers.Flatten(input_shape=(32,32,3)),\n",
    "    layers.Dense(3000, activation ='relu'),\n",
    "    layers.Dense(1000, activation = 'relu'),\n",
    "    layers.Dense(10, activation= 'sigmoid')\n",
    "])\n",
    "\n",
    "ann.compile(optimizer =  'SGD',\n",
    "           loss= 'sparse_categorical_crossentropy', \n",
    "           metrics ='accuracy')\n",
    "ann.fit(X_train, y_train, epochs =5)"
   ]
  },
  {
   "cell_type": "code",
   "execution_count": 33,
   "id": "71b7086b",
   "metadata": {},
   "outputs": [
    {
     "name": "stdout",
     "output_type": "stream",
     "text": [
      "313/313 [==============================] - 8s 24ms/step - loss: 1.5023 - accuracy: 0.4668\n"
     ]
    },
    {
     "data": {
      "text/plain": [
       "[1.5022555589675903, 0.4668000042438507]"
      ]
     },
     "execution_count": 33,
     "metadata": {},
     "output_type": "execute_result"
    }
   ],
   "source": [
    "ann.evaluate(X_test, y_test)"
   ]
  },
  {
   "cell_type": "code",
   "execution_count": 37,
   "id": "bb869950",
   "metadata": {},
   "outputs": [
    {
     "name": "stdout",
     "output_type": "stream",
     "text": [
      "classification report: \n",
      "               precision    recall  f1-score   support\n",
      "\n",
      "           0       0.42      0.60      0.50      1000\n",
      "           1       0.65      0.47      0.55      1000\n",
      "           2       0.37      0.34      0.36      1000\n",
      "           3       0.40      0.25      0.31      1000\n",
      "           4       0.43      0.40      0.41      1000\n",
      "           5       0.46      0.29      0.35      1000\n",
      "           6       0.45      0.67      0.54      1000\n",
      "           7       0.62      0.47      0.53      1000\n",
      "           8       0.42      0.78      0.54      1000\n",
      "           9       0.64      0.40      0.49      1000\n",
      "\n",
      "    accuracy                           0.47     10000\n",
      "   macro avg       0.49      0.47      0.46     10000\n",
      "weighted avg       0.49      0.47      0.46     10000\n",
      "\n"
     ]
    }
   ],
   "source": [
    "from sklearn.metrics import confusion_matrix, classification_report \n",
    "import numpy as np\n",
    "y_pred = ann.predict(X_test)\n",
    "y_pred_classes = [np.argmax(element) for element in y_pred]\n",
    "print('classification report: \\n', classification_report (y_test, y_pred_classes))"
   ]
  },
  {
   "cell_type": "code",
   "execution_count": 43,
   "id": "888f2fa9",
   "metadata": {},
   "outputs": [],
   "source": [
    "cnn = models.Sequential([\n",
    "    #cnn\n",
    "    layers.Conv2D(filters=32, kernel_size=(3,3),activation='relu', input_shape=(32,32,3)),\n",
    "    layers.MaxPooling2D((2,2)),\n",
    "    \n",
    "    layers.Conv2D(filters=32, kernel_size=(3,3),activation='relu', input_shape=(32,32,3)),\n",
    "    layers.MaxPooling2D((2,2)),\n",
    "    \n",
    "    layers.Flatten(),\n",
    "    layers.Dense(64, activation ='relu'),\n",
    "    layers.Dense(10, activation = 'sigmoid')\n",
    "    #layers.Dense(10, activation= 'sigmoid')\n",
    "])\n",
    "    "
   ]
  },
  {
   "cell_type": "code",
   "execution_count": 45,
   "id": "5fa7b8fe",
   "metadata": {},
   "outputs": [],
   "source": [
    "cnn.compile(optimizer =  'adam',\n",
    "           loss= 'sparse_categorical_crossentropy', \n",
    "           metrics ='accuracy')\n"
   ]
  },
  {
   "cell_type": "code",
   "execution_count": 47,
   "id": "30f0c3eb",
   "metadata": {},
   "outputs": [
    {
     "name": "stdout",
     "output_type": "stream",
     "text": [
      "Epoch 1/10\n",
      "1563/1563 [==============================] - 50s 32ms/step - loss: 1.5362 - accuracy: 0.4453\n",
      "Epoch 2/10\n",
      "1563/1563 [==============================] - 55s 35ms/step - loss: 1.2092 - accuracy: 0.5764\n",
      "Epoch 3/10\n",
      "1563/1563 [==============================] - 54s 34ms/step - loss: 1.0932 - accuracy: 0.6171\n",
      "Epoch 4/10\n",
      "1563/1563 [==============================] - 62s 40ms/step - loss: 1.0166 - accuracy: 0.6465\n",
      "Epoch 5/10\n",
      "1563/1563 [==============================] - 51s 33ms/step - loss: 0.9648 - accuracy: 0.6632\n",
      "Epoch 6/10\n",
      "1563/1563 [==============================] - 55s 35ms/step - loss: 0.9170 - accuracy: 0.6805\n",
      "Epoch 7/10\n",
      "1563/1563 [==============================] - 47s 30ms/step - loss: 0.8814 - accuracy: 0.6930\n",
      "Epoch 8/10\n",
      "1563/1563 [==============================] - 46s 29ms/step - loss: 0.8460 - accuracy: 0.7056\n",
      "Epoch 9/10\n",
      "1563/1563 [==============================] - 47s 30ms/step - loss: 0.8194 - accuracy: 0.7152\n",
      "Epoch 10/10\n",
      "1563/1563 [==============================] - 46s 29ms/step - loss: 0.7948 - accuracy: 0.7225\n"
     ]
    },
    {
     "data": {
      "text/plain": [
       "<tensorflow.python.keras.callbacks.History at 0x2087475c8b0>"
      ]
     },
     "execution_count": 47,
     "metadata": {},
     "output_type": "execute_result"
    }
   ],
   "source": [
    "cnn.fit(X_train, y_train, epochs=10)"
   ]
  },
  {
   "cell_type": "code",
   "execution_count": 48,
   "id": "66e4813d",
   "metadata": {},
   "outputs": [
    {
     "name": "stdout",
     "output_type": "stream",
     "text": [
      "313/313 [==============================] - 7s 22ms/step - loss: 0.9286 - accuracy: 0.6863 3s - loss: 0.9305 - ac - ETA: 2s - loss: 0.9206 - accu - ETA: 2s - loss: 0.9215 - accu - E - ETA: 0s - loss: 0.9248 \n"
     ]
    },
    {
     "data": {
      "text/plain": [
       "[0.9285525679588318, 0.6862999796867371]"
      ]
     },
     "execution_count": 48,
     "metadata": {},
     "output_type": "execute_result"
    }
   ],
   "source": [
    "cnn.evaluate(X_test, y_test)"
   ]
  },
  {
   "cell_type": "code",
   "execution_count": 50,
   "id": "d769a445",
   "metadata": {},
   "outputs": [],
   "source": [
    "y_test= y_test.reshape(-1,)"
   ]
  },
  {
   "cell_type": "code",
   "execution_count": 51,
   "id": "dd37a39d",
   "metadata": {},
   "outputs": [
    {
     "data": {
      "image/png": "[encoded data removed]",
      "text/plain": [
       "<Figure size 1080x144 with 1 Axes>"
      ]
     },
     "metadata": {
      "needs_background": "light"
     },
     "output_type": "display_data"
    }
   ],
   "source": [
    "plot_sample(X_test, y_test,1)"
   ]
  },
  {
   "cell_type": "code",
   "execution_count": 52,
   "id": "8abee56f",
   "metadata": {},
   "outputs": [
    {
     "data": {
      "text/plain": [
       "array([[1.5857878e-06, 8.8738233e-07, 6.0905259e-05, 1.8344700e-02,\n",
       "        2.6055675e-05, 4.0855408e-03, 3.0994415e-04, 3.1036939e-06,\n",
       "        5.7137012e-04, 3.1601162e-06],\n",
       "       [5.6865811e-04, 7.4693561e-04, 1.5098978e-05, 9.0433997e-07,\n",
       "        8.5432367e-07, 3.5798307e-09, 1.3729412e-08, 2.1787692e-09,\n",
       "        3.4568518e-02, 7.1810209e-05],\n",
       "       [1.5448034e-03, 3.5856366e-03, 1.2193470e-04, 1.3458729e-04,\n",
       "        8.0479935e-05, 1.7096221e-05, 7.0692579e-07, 1.2507577e-05,\n",
       "        4.5535505e-02, 1.6766787e-04],\n",
       "       [1.0394931e-02, 1.1183918e-03, 1.3840199e-04, 1.8041665e-05,\n",
       "        4.3147662e-05, 1.3502869e-07, 6.6537780e-07, 2.9543509e-07,\n",
       "        7.2135925e-03, 1.3546808e-06],\n",
       "       [2.4564791e-08, 1.3003173e-06, 3.4749508e-04, 8.8742375e-04,\n",
       "        1.5827149e-02, 2.9113889e-04, 1.0233939e-02, 2.0803182e-06,\n",
       "        3.0938043e-07, 2.1373108e-07]], dtype=float32)"
      ]
     },
     "execution_count": 52,
     "metadata": {},
     "output_type": "execute_result"
    }
   ],
   "source": [
    "y_pred = cnn.predict(X_test)\n",
    "y_pred[:5]"
   ]
  },
  {
   "cell_type": "code",
   "execution_count": 54,
   "id": "b3275288",
   "metadata": {},
   "outputs": [
    {
     "data": {
      "text/plain": [
       "[3, 8, 8, 0, 4]"
      ]
     },
     "execution_count": 54,
     "metadata": {},
     "output_type": "execute_result"
    }
   ],
   "source": [
    "y_classes= [np.argmax(element) for element in y_pred]\n",
    "y_classes[:5]"
   ]
  },
  {
   "cell_type": "code",
   "execution_count": 55,
   "id": "49707c9e",
   "metadata": {},
   "outputs": [
    {
     "data": {
      "text/plain": [
       "array([3, 8, 8, 0, 6], dtype=uint8)"
      ]
     },
     "execution_count": 55,
     "metadata": {},
     "output_type": "execute_result"
    }
   ],
   "source": [
    "y_test[:5]"
   ]
  },
  {
   "cell_type": "code",
   "execution_count": 56,
   "id": "28195cfd",
   "metadata": {},
   "outputs": [
    {
     "data": {
      "image/png": "[encoded data removed]",
      "text/plain": [
       "<Figure size 1080x144 with 1 Axes>"
      ]
     },
     "metadata": {
      "needs_background": "light"
     },
     "output_type": "display_data"
    }
   ],
   "source": [
    "plot_sample(X_test, y_test,1)"
   ]
  },
  {
   "cell_type": "code",
   "execution_count": 58,
   "id": "9b72fe6b",
   "metadata": {},
   "outputs": [
    {
     "data": {
      "text/plain": [
       "'ship'"
      ]
     },
     "execution_count": 58,
     "metadata": {},
     "output_type": "execute_result"
    }
   ],
   "source": [
    "classes[y_classes[1]]"
   ]
  },
  {
   "cell_type": "code",
   "execution_count": null,
   "id": "5e5f671e",
   "metadata": {},
   "outputs": [],
   "source": []
  }
 ],
 "metadata": {
  "kernelspec": {
   "display_name": "tf-gpu",
   "language": "python",
   "name": "tf-gpu"
  },
  "language_info": {
   "codemirror_mode": {
    "name": "ipython",
    "version": 3
   },
   "file_extension": ".py",
   "mimetype": "text/x-python",
   "name": "python",
   "nbconvert_exporter": "python",
   "pygments_lexer": "ipython3",
   "version": "3.8.8"
  }
 },
 "nbformat": 4,
 "nbformat_minor": 5
}
