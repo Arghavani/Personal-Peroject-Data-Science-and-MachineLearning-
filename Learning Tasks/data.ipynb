{
 "cells": [
  {
   "cell_type": "code",
   "execution_count": 13,
   "metadata": {},
   "outputs": [
    {
     "name": "stdout",
     "output_type": "stream",
     "text": [
      "lo worl\n"
     ]
    }
   ],
   "source": [
    "my_string ='hello world'\n",
    "\n",
    "print(my_string[-8:-1])\n"
   ]
  },
  {
   "cell_type": "code",
   "execution_count": 50,
   "metadata": {},
   "outputs": [
    {
     "name": "stdout",
     "output_type": "stream",
     "text": [
      "['I', ' ', 'a', 'm', ' ', 'p', 'y', 't', 'h', 'o', 'n']\n",
      "['I', ' ', 'a', 'm', ' ', 'p', 'y', 't', 'h', 'o', 'n', 25]\n",
      "['I', ' ', 'a', 'm', ' ', 'p', 'y', 2345, 't', 'h', 'o', 'n', 25]\n",
      "['I', ' ', 'a', 'm', ' ', 'p', 'y', 2345, 't', 'h', 'o', 'n', 25, 'g', 'o', 'o', 'd', ' ', 'b', 'y', 'e']\n",
      "['I', ' ', 'a', 'm', ' ', 'p', 'y', 2345, 't', 'h', 'o', 'n', 25, 'g', 'o', 'o', 'd', ' ', 'b', 'y', 'e', ['h', 'e', 'l', 'l', 'o', ' ', 'w', 'o', 'r', 'l', 'd']]\n",
      "['I', ' ', 'a', ' ', 'p', 'y', 2345, 't', 'h', 'o', 'n', 25, 'g', 'o', 'o', 'd', ' ', 'b', 'y', 'e', ['h', 'e', 'l', 'l', 'o', ' ', 'w', 'o', 'r', 'l', 'd']]\n"
     ]
    }
   ],
   "source": [
    "my_list = list('I am python')\n",
    "new_list= list('hello world')\n",
    "print (my_list)\n",
    "my_list.append(25)\n",
    "print(my_list)\n",
    "my_list.insert(7, 2345)\n",
    "print(my_list)\n",
    "my_list.extend('good bye')\n",
    "print(my_list)\n",
    "my_list.append(new_list)\n",
    "print(my_list)\n",
    "del (my_list[3])\n",
    "print(my_list)"
   ]
  },
  {
   "cell_type": "code",
   "execution_count": 5,
   "metadata": {},
   "outputs": [],
   "source": [
    "my_tuple= 'hello', 'world',23, 45.6"
   ]
  },
  {
   "cell_type": "code",
   "execution_count": 19,
   "metadata": {},
   "outputs": [
    {
     "name": "stdout",
     "output_type": "stream",
     "text": [
      "('hello', 'world', 23, 45.6)\n",
      "(26, ('hello', 'world', 23, 45.6))\n",
      "('hello', 'world', 23, 45.6)\n",
      "(1111, ('hello', 'world', 23, 45.6))\n",
      "1111\n",
      "(1111, ('hello', 'world', 23, 45.6), ['I', ' ', 'a', 'm', ' ', 'p', 'y', 't', 'h', 'o', 'n'])\n",
      "['I', ' ', 'a', 'm', ' ', 'p', 'y', 't', 'h', 'o', 'n']\n"
     ]
    }
   ],
   "source": [
    "t = 26, my_tuple\n",
    "print(my_tuple)\n",
    "print(t)\n",
    "print(t[1])\n",
    "#t[0]= 123\n",
    "t= 1111, my_tuple\n",
    "print(t)\n",
    "print(t[0])\n",
    "my_newlist= list('I am python')\n",
    "t= 1111, my_tuple, my_newlist\n",
    "print(t)\n",
    "print(t[2])"
   ]
  },
  {
   "cell_type": "code",
   "execution_count": 29,
   "metadata": {},
   "outputs": [
    {
     "name": "stdout",
     "output_type": "stream",
     "text": [
      "('hello',)\n",
      "<class 'tuple'>\n",
      "1\n",
      "0\n"
     ]
    }
   ],
   "source": [
    "#new_tuple ='hello',\n",
    "tuple2= ()\n",
    "new_tuple= 'hello',\n",
    "print(new_tuple)\n",
    "#my_list =[]\n",
    "print(type(tuple2))\n",
    "print(len(new_tuple))\n",
    "print(len(tuple2))"
   ]
  },
  {
   "cell_type": "code",
   "execution_count": 35,
   "metadata": {},
   "outputs": [
    {
     "name": "stdout",
     "output_type": "stream",
     "text": [
      "<class 'str'>\n",
      "<class 'str'>\n",
      "<class 'int'>\n"
     ]
    }
   ],
   "source": [
    "mytuple='hello','world', 233\n",
    "x , y,z = mytuple\n",
    "print(type(x))\n",
    "print(type(y))\n",
    "print(type(z))"
   ]
  },
  {
   "cell_type": "code",
   "execution_count": 55,
   "metadata": {},
   "outputs": [
    {
     "name": "stdout",
     "output_type": "stream",
     "text": [
      "4\n",
      "{'blue': 1, 'red': 2, 'black': 3, 'yellow': 6}\n",
      "['blue', 'red', 'black', 'yellow', 'white']\n",
      "{'blue': 1, 'red': 2, 'black': 3, 'yellow': 6, 'white': 12}\n"
     ]
    }
   ],
   "source": [
    "my_dict ={'blue':1,'red':2, 'black':3,  'green':4, 'yellow':6 }\n",
    "print(my_dict['green'])\n",
    "del my_dict['green']\n",
    "print((my_dict))\n",
    "my_dict['white']= 12\n",
    "print(list(my_dict))\n",
    "print((my_dict))"
   ]
  },
  {
   "cell_type": "code",
   "execution_count": 62,
   "metadata": {},
   "outputs": [
    {
     "name": "stdout",
     "output_type": "stream",
     "text": [
      "True\n",
      "False\n",
      "{'red': 1, 'green': 5, 'blue': 4, 'white': 7}\n"
     ]
    }
   ],
   "source": [
    "new_dict =dict([('red',1),('green',5), ('blue', 4),('white', 7)])\n",
    "flag1='red'in new_dict\n",
    "flag2 ='red' not in new_dict\n",
    "\n",
    "print(new_dict)\n",
    "print(flag1)\n",
    "print(flag2)"
   ]
  },
  {
   "cell_type": "code",
   "execution_count": 66,
   "metadata": {},
   "outputs": [
    {
     "name": "stdout",
     "output_type": "stream",
     "text": [
      "{'red': 3, 'blue': 5, 'yellow': 6, 'black': 12}\n"
     ]
    }
   ],
   "source": [
    "dict2 = dict(red= 3, blue=5 , yellow=6, black=12 )\n",
    "print(dict2)"
   ]
  },
  {
   "cell_type": "code",
   "execution_count": null,
   "metadata": {},
   "outputs": [],
   "source": []
  },
  {
   "cell_type": "code",
   "execution_count": null,
   "metadata": {},
   "outputs": [],
   "source": []
  },
  {
   "cell_type": "code",
   "execution_count": null,
   "metadata": {},
   "outputs": [],
   "source": []
  },
  {
   "cell_type": "code",
   "execution_count": null,
   "metadata": {},
   "outputs": [],
   "source": []
  },
  {
   "cell_type": "code",
   "execution_count": null,
   "metadata": {},
   "outputs": [],
   "source": []
  }
 ],
 "metadata": {
  "kernelspec": {
   "display_name": "Python 3",
   "language": "python",
   "name": "python3"
  },
  "language_info": {
   "codemirror_mode": {
    "name": "ipython",
    "version": 3
   },
   "file_extension": ".py",
   "mimetype": "text/x-python",
   "name": "python",
   "nbconvert_exporter": "python",
   "pygments_lexer": "ipython3",
   "version": "3.7.4"
  }
 },
 "nbformat": 4,
 "nbformat_minor": 4
}
