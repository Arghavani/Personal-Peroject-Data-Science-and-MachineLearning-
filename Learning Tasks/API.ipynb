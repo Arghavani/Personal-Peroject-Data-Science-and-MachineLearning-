{
 "cells": [
  {
   "cell_type": "code",
   "execution_count": 10,
   "metadata": {},
   "outputs": [
    {
     "data": {
      "text/plain": [
       "<Response [200]>"
      ]
     },
     "metadata": {},
     "output_type": "display_data"
    }
   ],
   "source": [
    "#from pycoingecko import CoinGeckoAPI\n",
    "#cg = CoinGeckoAPI()\n",
    "import requests\n",
    "url ='https://www.ibm.com/'\n",
    "r=requests.get(url)\n",
    "display(r)"
   ]
  },
  {
   "cell_type": "code",
   "execution_count": 11,
   "metadata": {},
   "outputs": [
    {
     "data": {
      "text/plain": [
       "200"
      ]
     },
     "execution_count": 11,
     "metadata": {},
     "output_type": "execute_result"
    }
   ],
   "source": [
    "r.status_code"
   ]
  },
  {
   "cell_type": "code",
   "execution_count": 12,
   "metadata": {},
   "outputs": [
    {
     "data": {
      "text/plain": [
       "{'User-Agent': 'python-requests/2.23.0', 'Accept-Encoding': 'gzip, deflate', 'Accept': '*/*', 'Connection': 'keep-alive', 'Cookie': '_abck=E8A15618F3201905EE41C038F7F99398~-1~YAAQFWZWuLAN/EJ4AQAA8EC9RAWefoWI8EtjnjMuv6B231ijLO6pZICESUudzG8b1BduHsvA6d3SD4ZlSMTcdg0f+W0EPZDa+6GiTdnVyrYYKssWQlSlpKgg2T+6Oj/7188upUsODBcu5m3bHmV3M3dxwKKzhtvmiuMiC+QoQ/vhUi8uwfJ3C0FqWGbPK0JlASLa8KxRgy+UMa5J4zeL00DiMsvA8T+YfnCl1ujWg3r/jb9opJUysYpvPE1PfS1242+EeLSSjM1+zFGiPc80lPxbGO5wMSZuqkXMiHbvonRtb8uIgnIpIRaxWJXxDS9pXIdCH3Kwh2LYIzjzs4s/yWzQ76vIxK7T2bMAen4iw3l/EeJdsrk=~-1~-1~-1; bm_sz=8D972A43718F3AC0434427D8CD5C45E7~YAAQFWZWuK8N/EJ4AQAA8EC9RAsH2TI1YCvYW+Scq9U1zgbuodA1BFEmbCG0YevS2ilDcKaAgRkgVYyyOC6zrJbIs2H9bGCGwUTl/9dZyZPgTRTuLyLT8e744vxCf1Z9vTFYMri6l4sIJupaQl/41AgeTF8tgZ0CuOwBeN4JGNjvyQGU19QF7fHqGprP'}"
      ]
     },
     "execution_count": 12,
     "metadata": {},
     "output_type": "execute_result"
    }
   ],
   "source": [
    "r.request.headers"
   ]
  },
  {
   "cell_type": "code",
   "execution_count": 15,
   "metadata": {},
   "outputs": [],
   "source": [
    "r.request.body\n"
   ]
  },
  {
   "cell_type": "code",
   "execution_count": 17,
   "metadata": {},
   "outputs": [
    {
     "data": {
      "text/plain": [
       "{'Server': 'Apache', 'x-drupal-dynamic-cache': 'UNCACHEABLE', 'Link': '<https://www.ibm.com/de-de>; rel=\"canonical\", <https://www.ibm.com/de-de>; rel=\"revision\", <https://www.ibm.com/de-de>; rel=\"revision\", <//1.cms.s81c.com>; rel=preconnect; crossorigin, <//1.cms.s81c.com>; rel=dns-prefetch', 'x-ua-compatible': 'IE=edge', 'Content-Language': 'de-de', 'x-generator': 'Drupal 8 (https://www.drupal.org)', 'x-dns-prefetch-control': 'on', 'x-drupal-cache': 'MISS', 'Last-Modified': 'Thu, 18 Mar 2021 09:11:57 GMT', 'ETag': '\"1616058717\"', 'Content-Type': 'text/html; charset=UTF-8', 'x-acquia-host': 'www.ibm.com', 'x-acquia-path': '/de-de', 'x-acquia-site': '', 'x-acquia-purge-tags': '', 'x-varnish': '132257833 145457363', 'x-cache-hits': '2', 'x-age': '780', 'Accept-Ranges': 'bytes', 'Content-Encoding': 'gzip', 'Cache-Control': 'public, max-age=300', 'Expires': 'Thu, 18 Mar 2021 09:54:17 GMT', 'X-Akamai-Transformed': '9 12444 0 pmb=mTOE,1', 'Date': 'Thu, 18 Mar 2021 09:49:17 GMT', 'Content-Length': '12557', 'Connection': 'keep-alive', 'Vary': 'Accept-Encoding', 'x-content-type-options': 'nosniff', 'X-XSS-Protection': '1; mode=block', 'Content-Security-Policy': 'upgrade-insecure-requests', 'Strict-Transport-Security': 'max-age=31536000', 'x-ibm-trace': 'www-dipatcher: dynamic rule'}"
      ]
     },
     "metadata": {},
     "output_type": "display_data"
    }
   ],
   "source": [
    "header=r.headers\n",
    "display(header)"
   ]
  },
  {
   "cell_type": "code",
   "execution_count": 18,
   "metadata": {},
   "outputs": [
    {
     "data": {
      "text/plain": [
       "'Thu, 18 Mar 2021 09:49:17 GMT'"
      ]
     },
     "execution_count": 18,
     "metadata": {},
     "output_type": "execute_result"
    }
   ],
   "source": [
    "header['date']"
   ]
  },
  {
   "cell_type": "code",
   "execution_count": 22,
   "metadata": {},
   "outputs": [
    {
     "data": {
      "text/plain": [
       "'text/html; charset=UTF-8'"
      ]
     },
     "execution_count": 22,
     "metadata": {},
     "output_type": "execute_result"
    }
   ],
   "source": [
    "header['Content-Type']"
   ]
  },
  {
   "cell_type": "code",
   "execution_count": 23,
   "metadata": {},
   "outputs": [
    {
     "data": {
      "text/plain": [
       "'UTF-8'"
      ]
     },
     "execution_count": 23,
     "metadata": {},
     "output_type": "execute_result"
    }
   ],
   "source": [
    "r.encoding"
   ]
  },
  {
   "cell_type": "code",
   "execution_count": 24,
   "metadata": {},
   "outputs": [
    {
     "data": {
      "text/plain": [
       "'<!DOCTYPE html>\\n<html lang=\"de-de\" dir=\"ltr\">\\n  <head>\\n    <meta charset=\"utf-8\" />\\n<script>digitalD'"
      ]
     },
     "execution_count": 24,
     "metadata": {},
     "output_type": "execute_result"
    }
   ],
   "source": [
    "r.text[0:100]"
   ]
  },
  {
   "cell_type": "code",
   "execution_count": 27,
   "metadata": {},
   "outputs": [
    {
     "data": {
      "text/plain": [
       "<bound method Response.json of <Response [200]>>"
      ]
     },
     "execution_count": 27,
     "metadata": {},
     "output_type": "execute_result"
    }
   ],
   "source": [
    "r.json"
   ]
  },
  {
   "cell_type": "code",
   "execution_count": null,
   "metadata": {},
   "outputs": [],
   "source": []
  }
 ],
 "metadata": {
  "kernelspec": {
   "display_name": "Python 3",
   "language": "python",
   "name": "python3"
  },
  "language_info": {
   "codemirror_mode": {
    "name": "ipython",
    "version": 3
   },
   "file_extension": ".py",
   "mimetype": "text/x-python",
   "name": "python",
   "nbconvert_exporter": "python",
   "pygments_lexer": "ipython3",
   "version": "3.7.4"
  }
 },
 "nbformat": 4,
 "nbformat_minor": 4
}
