{
 "cells": [
  {
   "cell_type": "code",
   "execution_count": 2,
   "metadata": {},
   "outputs": [
    {
     "data": {
      "text/plain": [
       "654"
      ]
     },
     "execution_count": 2,
     "metadata": {},
     "output_type": "execute_result"
    }
   ],
   "source": [
    "my_ary = [0, 2, 345, 654,8, 10]\n",
    "maxx=0\n",
    "for i in range(len(my_ary)):\n",
    "    if maxx < my_ary[i]:\n",
    "        maxx =my_ary[i]\n",
    "maxx\n"
   ]
  },
  {
   "cell_type": "code",
   "execution_count": 11,
   "metadata": {},
   "outputs": [
    {
     "name": "stdout",
     "output_type": "stream",
     "text": [
      "[0, 1, 4, 9, 16, 25, 36, 49, 64, 81]\n",
      "[0, 1, 2, 3, 4, 5, 6, 7, 8, 9]\n"
     ]
    }
   ],
   "source": [
    "new_ary =[]\n",
    "for i in range(10):\n",
    "    new_ary.append(i*i)\n",
    "   #new_ary[i]= i*i\n",
    "print(new_ary)\n",
    "for i in range(10):\n",
    "    new_ary[i]=i \n",
    "    \n",
    "print(new_ary)"
   ]
  },
  {
   "cell_type": "code",
   "execution_count": 16,
   "metadata": {},
   "outputs": [
    {
     "name": "stdout",
     "output_type": "stream",
     "text": [
      "[0, 1, 4, 9, 16, 25, 36, 49, 64, 81, 100, 121, 144, 169, 196, 225, 256, 289, 324, 361]\n"
     ]
    }
   ],
   "source": [
    "ary2=[i for i in range(20)]\n",
    "for i in range(20):\n",
    "    ary2[i] =i*i\n",
    "\n",
    "print(ary2)"
   ]
  },
  {
   "cell_type": "code",
   "execution_count": 22,
   "metadata": {},
   "outputs": [
    {
     "name": "stdout",
     "output_type": "stream",
     "text": [
      "[[123, 124], [234, 235]]\n"
     ]
    }
   ],
   "source": [
    "ary2d=[[123, 124], [234, 235]]\n",
    "print(ary2d)"
   ]
  },
  {
   "cell_type": "code",
   "execution_count": 27,
   "metadata": {},
   "outputs": [
    {
     "name": "stdout",
     "output_type": "stream",
     "text": [
      "[123, 124]\n",
      "123\n",
      "124\n"
     ]
    }
   ],
   "source": [
    "print(ary2d[0])\n",
    "print(ary2d[0][0])\n",
    "print(ary2d[0][1])"
   ]
  },
  {
   "cell_type": "code",
   "execution_count": 28,
   "metadata": {},
   "outputs": [
    {
     "name": "stdout",
     "output_type": "stream",
     "text": [
      "[234, 235]\n",
      "234\n",
      "235\n"
     ]
    }
   ],
   "source": [
    "print(ary2d[1])\n",
    "print(ary2d[1][0])\n",
    "print(ary2d[1][1])"
   ]
  },
  {
   "cell_type": "code",
   "execution_count": 29,
   "metadata": {},
   "outputs": [
    {
     "name": "stdout",
     "output_type": "stream",
     "text": [
      "[[54, 124], [234, 235]]\n"
     ]
    }
   ],
   "source": [
    "ary2d[0][0]=54\n",
    "print(ary2d)"
   ]
  },
  {
   "cell_type": "code",
   "execution_count": 30,
   "metadata": {},
   "outputs": [
    {
     "name": "stdout",
     "output_type": "stream",
     "text": [
      "2\n"
     ]
    }
   ],
   "source": [
    "print(len(ary2d))"
   ]
  },
  {
   "cell_type": "code",
   "execution_count": 33,
   "metadata": {},
   "outputs": [
    {
     "name": "stdout",
     "output_type": "stream",
     "text": [
      "[[[0, 2, 4, 6, 8], []], [0, 1, 2, 3, 4, 5, 6, 7, 8, 9]]\n"
     ]
    }
   ],
   "source": [
    "ary3=[[[i*2 for i in range(5)],[]],[j for j in range(10)]]\n",
    "print(ary3)"
   ]
  },
  {
   "cell_type": "code",
   "execution_count": 34,
   "metadata": {},
   "outputs": [
    {
     "name": "stdout",
     "output_type": "stream",
     "text": [
      "[[0, 2, 4, 6, 8], []]\n",
      "[0, 1, 2, 3, 4, 5, 6, 7, 8, 9]\n"
     ]
    }
   ],
   "source": [
    "print(ary3[0])\n",
    "print(ary3[1])"
   ]
  },
  {
   "cell_type": "code",
   "execution_count": 35,
   "metadata": {},
   "outputs": [
    {
     "name": "stdout",
     "output_type": "stream",
     "text": [
      "2\n"
     ]
    }
   ],
   "source": [
    "print(len(ary3))"
   ]
  },
  {
   "cell_type": "code",
   "execution_count": 43,
   "metadata": {},
   "outputs": [
    {
     "name": "stdout",
     "output_type": "stream",
     "text": [
      "[2, 2, 2, 2, 2]\n",
      "[[2, 2, 2, 2, 2], [2, 2, 2, 2, 2]]\n",
      "2\n",
      "[[[2, 2, 2, 2, 2], [2, 2, 2, 2, 2]], [[2, 2, 2, 2, 2], [2, 2, 2, 2, 2]]]\n"
     ]
    }
   ],
   "source": [
    "ary4=[[2 for i in range(5)] for j in range(2)]\n",
    "ary5=[2 for j in range(5)]\n",
    "ary6=[[[2 for i in range(5)] for j in range(2)] for k in range(2)]\n",
    "print(ary5)\n",
    "print(ary4)\n",
    "print(len(ary4))\n",
    "print (ary6)"
   ]
  },
  {
   "cell_type": "code",
   "execution_count": null,
   "metadata": {},
   "outputs": [],
   "source": []
  }
 ],
 "metadata": {
  "kernelspec": {
   "display_name": "Python 3",
   "language": "python",
   "name": "python3"
  },
  "language_info": {
   "codemirror_mode": {
    "name": "ipython",
    "version": 3
   },
   "file_extension": ".py",
   "mimetype": "text/x-python",
   "name": "python",
   "nbconvert_exporter": "python",
   "pygments_lexer": "ipython3",
   "version": "3.7.4"
  }
 },
 "nbformat": 4,
 "nbformat_minor": 4
}
